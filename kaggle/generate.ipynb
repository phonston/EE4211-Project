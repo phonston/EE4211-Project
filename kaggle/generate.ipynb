{
 "cells": [
  {
   "cell_type": "code",
   "execution_count": 4,
   "metadata": {},
   "outputs": [],
   "source": [
    "import pandas as pd\n",
    "import cv2 as cv\n",
    "import numpy as np\n",
    "import os"
   ]
  },
  {
   "cell_type": "code",
   "execution_count": 15,
   "metadata": {},
   "outputs": [
    {
     "name": "stderr",
     "output_type": "stream",
     "text": [
      "/tmp/ipykernel_16734/1907980466.py:1: ParserWarning: Falling back to the 'python' engine because the 'c' engine does not support regex separators (separators > 1 char and different from '\\s+' are interpreted as regex); you can avoid this warning by specifying engine='python'.\n",
      "  df = pd.read_csv('train_boundingboxes.csv',sep=', ')\n"
     ]
    }
   ],
   "source": [
    "df = pd.read_csv('train_boundingboxes.csv',sep=', ')"
   ]
  },
  {
   "cell_type": "code",
   "execution_count": 3,
   "metadata": {},
   "outputs": [],
   "source": [
    "import re\n",
    "def sorted_alphanumeric(data):\n",
    "    convert = lambda text: int(text) if text.isdigit() else text.lower()\n",
    "    alphanum_key = lambda key: [ convert(c) for c in re.split('([0-9]+)', key) ] \n",
    "    return sorted(data, key=alphanum_key)\n",
    "imglist = sorted_alphanumeric(os.listdir('Train'))\n",
    "widthList = []\n",
    "heightList = []\n",
    "for img in imglist:\n",
    "    image = cv.imread('Train/'+img)\n",
    "    height, width, channels = image.shape\n",
    "    widthList.insert(len(widthList),width)\n",
    "    heightList.insert(len(heightList),height)"
   ]
  },
  {
   "cell_type": "code",
   "execution_count": 22,
   "metadata": {},
   "outputs": [],
   "source": [
    "def findX(xmin,xmax,width):\n",
    "    return (xmin + xmax)/ 2.0 / width\n",
    "\n",
    "def findY(ymin,ymax,height):\n",
    "    return (ymin + ymax)/ 2.0 / height\n",
    "\n",
    "def findW(xmin,xmax,width):\n",
    "    return abs(xmin - xmax) / width\n",
    "\n",
    "def findH(ymin,ymax,height):\n",
    "    return abs(ymin - ymax) / height\n",
    "\n",
    "df['pwidth'] = widthList\n",
    "df['pheight'] = heightList\n",
    "df['x_centre'] = df.apply(lambda x: findX(x['X_min'],x['X_max'],x['pwidth']),axis=1)\n",
    "df['y_centre'] = df.apply(lambda x: findY(x['Y_min'],x['Y_max'],x['pheight']),axis=1)\n",
    "df['width'] = df.apply(lambda x: findW(x['X_min'],x['X_max'],x['pwidth']),axis=1)\n",
    "df['height'] = df.apply(lambda x: findH(x['Y_min'],x['Y_max'],x['pheight']),axis=1)\n",
    "df['Class'] = 0"
   ]
  },
  {
   "cell_type": "code",
   "execution_count": 31,
   "metadata": {},
   "outputs": [],
   "source": [
    "dfresult = df[['Class','x_centre','y_centre','width','height']]\n",
    "dfresult = dfresult.round(6)\n",
    "dfresult = dfresult.astype(str)"
   ]
  },
  {
   "cell_type": "code",
   "execution_count": 32,
   "metadata": {},
   "outputs": [],
   "source": [
    "i=0\n",
    "for row in dfresult.values:\n",
    "    filename = 'data/obj/{}.txt'.format(i)\n",
    "    row.tofile(filename, sep=\" \", format=\"%s\")\n",
    "    i+=1"
   ]
  },
  {
   "cell_type": "code",
   "execution_count": 7,
   "metadata": {},
   "outputs": [],
   "source": [
    "path = 'data/obj/'\n",
    "imgList = sorted_alphanumeric(os.listdir('Train'))\n",
    "textFile = open('data/train.txt','w')\n",
    "testFile = open('data/test.txt','w')\n",
    "total =1000\n",
    "test = 100\n",
    "i = 0\n",
    "for img in imgList:\n",
    "    if(i < total - test):\n",
    "        imgPath = path+img+'\\n'\n",
    "        textFile.write(imgPath)\n",
    "        i+=1\n",
    "    else:\n",
    "        imgPath = path+img+'\\n'\n",
    "        testFile.write(imgPath)"
   ]
  }
 ],
 "metadata": {
  "interpreter": {
   "hash": "1a5990026545d336808e8cb696cb4082c39fcb904eb5df6ff49d5fdd36014739"
  },
  "kernelspec": {
   "display_name": "Python 3.9.10 ('EE4211')",
   "language": "python",
   "name": "python3"
  },
  "language_info": {
   "codemirror_mode": {
    "name": "ipython",
    "version": 3
   },
   "file_extension": ".py",
   "mimetype": "text/x-python",
   "name": "python",
   "nbconvert_exporter": "python",
   "pygments_lexer": "ipython3",
   "version": "3.9.10"
  },
  "orig_nbformat": 4
 },
 "nbformat": 4,
 "nbformat_minor": 2
}
