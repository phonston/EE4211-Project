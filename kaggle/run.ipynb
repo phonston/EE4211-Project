{
 "cells": [
  {
   "cell_type": "code",
   "execution_count": 2,
   "metadata": {},
   "outputs": [],
   "source": [
    "import pandas as pd\n",
    "import cv2 as cv\n",
    "import numpy as np\n",
    "import os"
   ]
  },
  {
   "cell_type": "code",
   "execution_count": 3,
   "metadata": {},
   "outputs": [],
   "source": [
    "import re\n",
    "def sorted_alphanumeric(data):\n",
    "    convert = lambda text: int(text) if text.isdigit() else text.lower()\n",
    "    alphanum_key = lambda key: [ convert(c) for c in re.split('([0-9]+)', key) ] \n",
    "    return sorted(data, key=alphanum_key)"
   ]
  },
  {
   "cell_type": "code",
   "execution_count": null,
   "metadata": {},
   "outputs": [],
   "source": [
    "# Automatically label and generate the txt files of each image for use in Yolo format from the given pascalvoc csv\n",
    "df = pd.read_csv('train_boundingboxes.csv',sep=', ')\n",
    "\n",
    "imglist = sorted_alphanumeric(os.listdir('Train'))\n",
    "widthList = []\n",
    "heightList = []\n",
    "for img in imglist:\n",
    "    image = cv.imread('Train/'+img)\n",
    "    height, width, channels = image.shape\n",
    "    widthList.insert(len(widthList),width)\n",
    "    heightList.insert(len(heightList),height)\n",
    "    \n",
    "def findX(xmin,xmax,width):\n",
    "    return (xmin + xmax)/ 2.0 / width\n",
    "\n",
    "def findY(ymin,ymax,height):\n",
    "    return (ymin + ymax)/ 2.0 / height\n",
    "\n",
    "def findW(xmin,xmax,width):\n",
    "    return abs(xmin - xmax) / width\n",
    "\n",
    "def findH(ymin,ymax,height):\n",
    "    return abs(ymin - ymax) / height\n",
    "\n",
    "df['pwidth'] = widthList\n",
    "df['pheight'] = heightList\n",
    "df['x_centre'] = df.apply(lambda x: findX(x['X_min'],x['X_max'],x['pwidth']),axis=1)\n",
    "df['y_centre'] = df.apply(lambda x: findY(x['Y_min'],x['Y_max'],x['pheight']),axis=1)\n",
    "df['width'] = df.apply(lambda x: findW(x['X_min'],x['X_max'],x['pwidth']),axis=1)\n",
    "df['height'] = df.apply(lambda x: findH(x['Y_min'],x['Y_max'],x['pheight']),axis=1)\n",
    "df['Class'] = 0\n",
    "\n",
    "dfresult = df[['Class','x_centre','y_centre','width','height']]\n",
    "dfresult = dfresult.round(6)\n",
    "dfresult = dfresult.astype(str)\n",
    "\n",
    "i=0\n",
    "for row in dfresult.values:\n",
    "    filename = 'data/obj/{}.txt'.format(i)\n",
    "    row.tofile(filename, sep=\" \", format=\"%s\")\n",
    "    i+=1\n",
    "    \n",
    "path = 'data/obj/'\n",
    "imgList = sorted_alphanumeric(os.listdir('Train'))\n",
    "textFile = open('data/train.txt','w')\n",
    "\n",
    "for img in imgList:\n",
    "    imgPath = path+img+'.jpg'+'\\n'\n",
    "    textFile.write(imgPath)\n",
    "\n",
    "testFile = open('data/test.txt','w')\n",
    "imgList = sorted_alphanumeric(os.listdir('Train'))\n",
    "path = 'data/Test/' \n",
    "i = 1000\n",
    "for img in imgList:\n",
    "    imgPath = path+str(i)+'.jpg'+'\\n'\n",
    "    i+=1\n",
    "    testFile.write(imgPath)"
   ]
  },
  {
   "cell_type": "code",
   "execution_count": null,
   "metadata": {},
   "outputs": [],
   "source": [
    "!cp -R data/obj ../darknet/data\n",
    "!cp -R Test ../darknet/data\n",
    "!cp yolov4-obj.cfg ../darknet/cfg\n",
    "!cp data/train.txt ../darknet/data\n",
    "!cp data/test.txt ../darknet/data\n",
    "!cp data/obj.data ../darknet/data\n",
    "!cp data/obj.names ../darknet/data"
   ]
  },
  {
   "cell_type": "code",
   "execution_count": null,
   "metadata": {},
   "outputs": [],
   "source": [
    "!cd darknet\n",
    "!wget https://drive.google.com/open?id=1JKF-bdIklxOOVy-2Cr5qdvjgGpmGfcbp\n",
    "# Wait till the download is done for the weights"
   ]
  },
  {
   "cell_type": "code",
   "execution_count": null,
   "metadata": {},
   "outputs": [],
   "source": [
    "!./darknet detector train data/obj.data cfg/yolov4-obj.cfg yolov4.conv.137 -dont_show -mjpeg_port 8040 -map > output.txt\n",
    "#Start the training here, just incase something happens we can continue the training using the command below\n",
    "# !./darknet detector train data/obj.data cfg/yolov4-obj.cfg backup/yolov4-obj_last.weights > output.txt"
   ]
  },
  {
   "cell_type": "code",
   "execution_count": null,
   "metadata": {},
   "outputs": [],
   "source": [
    "!./darknet detector test data/obj.data cfg/yolov4-obj.cfg backup/yolov4-obj_best.weights -thresh 0.4 -ext_output -dont_show -out result.json < data/test2.txt > result.txt\n",
    "#Generate the json file for conversion, then we convert it csv as yolo will not convert to csv automatically\n",
    "# https://www.convertcsv.com/json-to-csv.htm\n",
    "!cp result.json ../kaggle\n",
    "!cd ../kaggle"
   ]
  },
  {
   "cell_type": "code",
   "execution_count": null,
   "metadata": {},
   "outputs": [],
   "source": [
    "#since the json file that is generated takes too long to parse, we call an external api to generate it for us instead\n",
    "# in order for this to work we need to generate an authentication token\n",
    "!curl -X POST \"https://www.convertcsv.io/api/v1/json2csv\" -H \"Authorization: Token [YOUR TOKEN]\" -F \"infile=@result.json\" -o convertcsv.csv"
   ]
  },
  {
   "cell_type": "code",
   "execution_count": 1,
   "metadata": {},
   "outputs": [],
   "source": [
    "#https://github.com/tensorturtle/rebox\n",
    "from rebox import BBox\n",
    "from rebox.formats import yolo,pascal\n",
    "def yolo_to_pascal_voc(x_center, y_center, w, h,  image_w, image_h):\n",
    "    w = w * image_w\n",
    "    h = h * image_h\n",
    "    x1 = ((2 * x_center * image_w) - w)/2\n",
    "    y1 = ((2 * y_center * image_h) - h)/2\n",
    "    x2 = x1 + w\n",
    "    y2 = y1 + h\n",
    "    return [x1, y1, x2, y2]"
   ]
  },
  {
   "cell_type": "code",
   "execution_count": null,
   "metadata": {},
   "outputs": [],
   "source": [
    "imglist = sorted_alphanumeric(os.listdir('Test'))\n",
    "widthList = []\n",
    "heightList = []\n",
    "for img in imglist:\n",
    "    image = cv.imread('Test/'+img)\n",
    "    height, width, channels = image.shape\n",
    "    widthList.insert(len(widthList),width)\n",
    "    heightList.insert(len(heightList),height)\n",
    "    \n",
    "cleanup = pd.read_csv('convertcsv.csv')\n",
    "\n",
    "cleanedfilename = []\n",
    "\n",
    "for i in cleanup['filename']:\n",
    "    cleanedfilename.insert(len(cleanedfilename),i.split('/')[2])\n",
    "cleanup['filename'] = cleanedfilename\n",
    "\n",
    "x_min = []\n",
    "y_min = []\n",
    "x_max = []\n",
    "y_max = []\n",
    "\n",
    "i = 0\n",
    "for index, row in cleanup.iterrows():\n",
    "    if (~pd.isnull(row['objects/0/relative_coordinates/width'])):\n",
    "        # pascalb = yolo_to_pascal_voc(row['objects/0/relative_coordinates/center_x'],row['objects/0/relative_coordinates/center_y'],row['objects/0/relative_coordinates/width'],row['objects/0/relative_coordinates/height'],\n",
    "        #                              widthList[i],heightList[i])\n",
    "        # x_min.insert(len(x_min),pascalb[0])\n",
    "        # y_min.insert(len(y_min),pascalb[1])\n",
    "        # x_max.insert(len(x_max),pascalb[2])\n",
    "        # y_max.insert(len(y_max),pascalb[3])\n",
    "        \n",
    "        yolob = BBox([row['objects/0/relative_coordinates/center_x'],row['objects/0/relative_coordinates/center_y'],row['objects/0/relative_coordinates/width'],row['objects/0/relative_coordinates/height']],yolo)\n",
    "        pascalb = yolob.as_format(pascal, widthList[i], heightList[i])\n",
    "        x_min.insert(len(x_min),pascalb.x1)\n",
    "        y_min.insert(len(y_min),pascalb.y1)\n",
    "        x_max.insert(len(x_max),pascalb.x2)\n",
    "        y_max.insert(len(y_max),pascalb.y2)\n",
    "    else:    \n",
    "        x_min.insert(len(x_min),0)\n",
    "        y_min.insert(len(y_min),0)\n",
    "        x_max.insert(len(x_max),0)\n",
    "        y_max.insert(len(y_max),0)\n",
    "    i+=1\n",
    "\n",
    "result = pd.DataFrame()\n",
    "result[' X_min'] = x_min\n",
    "result[' Y_min'] = y_min\n",
    "result[' X_max'] = x_max\n",
    "result[' Y_max'] = y_max\n",
    "result[result < 0] = 0\n",
    "result = result.replace(r'nan', np.nan, regex=True)\n",
    "result = result.fillna(0)\n",
    "\n",
    "result[' X_min'].astype(int)\n",
    "result[' Y_min'].astype(int)\n",
    "result[' X_max'].astype(int)\n",
    "result[' Y_max'].astype(int)\n",
    "result['ImageId'] = cleanup['filename']\n",
    "result = result[['ImageId',' X_min',' Y_min',' X_max',' Y_max']]\n",
    "result.to_csv('EE4211_group1.csv',index=False)"
   ]
  }
 ],
 "metadata": {
  "interpreter": {
   "hash": "78a2b77ff9e37fc31a6da28302bc18b697d7624bf8160a3e4f6d4783a5f5ef9e"
  },
  "kernelspec": {
   "display_name": "Python 3.9.7 ('EE4211')",
   "language": "python",
   "name": "python3"
  },
  "language_info": {
   "codemirror_mode": {
    "name": "ipython",
    "version": 3
   },
   "file_extension": ".py",
   "mimetype": "text/x-python",
   "name": "python",
   "nbconvert_exporter": "python",
   "pygments_lexer": "ipython3",
   "version": "3.9.7"
  },
  "orig_nbformat": 4
 },
 "nbformat": 4,
 "nbformat_minor": 2
}
