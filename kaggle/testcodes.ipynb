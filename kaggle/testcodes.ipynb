{
 "cells": [
  {
   "cell_type": "code",
   "execution_count": null,
   "metadata": {},
   "outputs": [],
   "source": [
    "import pandas as pd\n",
    "import cv2 as cv\n",
    "import numpy as np\n",
    "import os"
   ]
  },
  {
   "cell_type": "code",
   "execution_count": 4,
   "metadata": {},
   "outputs": [],
   "source": [
    "import re\n",
    "def sorted_alphanumeric(data):\n",
    "    convert = lambda text: int(text) if text.isdigit() else text.lower()\n",
    "    alphanum_key = lambda key: [ convert(c) for c in re.split('([0-9]+)', key) ] \n",
    "    return sorted(data, key=alphanum_key)"
   ]
  },
  {
   "cell_type": "code",
   "execution_count": null,
   "metadata": {},
   "outputs": [],
   "source": [
    "df = pd.read_csv('train_boundingboxes.csv',sep=', ')"
   ]
  },
  {
   "cell_type": "code",
   "execution_count": null,
   "metadata": {},
   "outputs": [],
   "source": [
    "imglist = sorted_alphanumeric(os.listdir('Train'))\n",
    "widthList = []\n",
    "heightList = []\n",
    "for img in imglist:\n",
    "    image = cv.imread('Train/'+img)\n",
    "    height, width, channels = image.shape\n",
    "    widthList.insert(len(widthList),width)\n",
    "    heightList.insert(len(heightList),height)"
   ]
  },
  {
   "cell_type": "code",
   "execution_count": null,
   "metadata": {},
   "outputs": [],
   "source": [
    "def findX(xmin,xmax,width):\n",
    "    return (xmin + xmax)/ 2.0 / width\n",
    "\n",
    "def findY(ymin,ymax,height):\n",
    "    return (ymin + ymax)/ 2.0 / height\n",
    "\n",
    "def findW(xmin,xmax,width):\n",
    "    return abs(xmin - xmax) / width\n",
    "\n",
    "def findH(ymin,ymax,height):\n",
    "    return abs(ymin - ymax) / height\n",
    "\n",
    "df['pwidth'] = widthList\n",
    "df['pheight'] = heightList\n",
    "df['x_centre'] = df.apply(lambda x: findX(x['X_min'],x['X_max'],x['pwidth']),axis=1)\n",
    "df['y_centre'] = df.apply(lambda x: findY(x['Y_min'],x['Y_max'],x['pheight']),axis=1)\n",
    "df['width'] = df.apply(lambda x: findW(x['X_min'],x['X_max'],x['pwidth']),axis=1)\n",
    "df['height'] = df.apply(lambda x: findH(x['Y_min'],x['Y_max'],x['pheight']),axis=1)\n",
    "df['Class'] = 0"
   ]
  },
  {
   "cell_type": "code",
   "execution_count": null,
   "metadata": {},
   "outputs": [],
   "source": [
    "dfresult = df[['Class','x_centre','y_centre','width','height']]\n",
    "dfresult = dfresult.round(6)\n",
    "dfresult = dfresult.astype(str)"
   ]
  },
  {
   "cell_type": "code",
   "execution_count": null,
   "metadata": {},
   "outputs": [],
   "source": [
    "i=0\n",
    "for row in dfresult.values:\n",
    "    filename = 'data/obj/{}.txt'.format(i)\n",
    "    row.tofile(filename, sep=\" \", format=\"%s\")\n",
    "    i+=1"
   ]
  },
  {
   "cell_type": "code",
   "execution_count": 5,
   "metadata": {},
   "outputs": [
    {
     "ename": "NameError",
     "evalue": "name 'i' is not defined",
     "output_type": "error",
     "traceback": [
      "\u001b[0;31m---------------------------------------------------------------------------\u001b[0m",
      "\u001b[0;31mNameError\u001b[0m                                 Traceback (most recent call last)",
      "\u001b[1;32m/home/phonston/EE4211/kaggle/generate.ipynb Cell 8'\u001b[0m in \u001b[0;36m<cell line: 15>\u001b[0;34m()\u001b[0m\n\u001b[1;32m      <a href='vscode-notebook-cell://ssh-remote%2B192.168.1.185/home/phonston/EE4211/kaggle/generate.ipynb#ch0000007vscode-remote?line=4'>5</a>\u001b[0m \u001b[39m# i = 0\u001b[39;00m\n\u001b[1;32m      <a href='vscode-notebook-cell://ssh-remote%2B192.168.1.185/home/phonston/EE4211/kaggle/generate.ipynb#ch0000007vscode-remote?line=5'>6</a>\u001b[0m \u001b[39m# for img in imgList:\u001b[39;00m\n\u001b[1;32m      <a href='vscode-notebook-cell://ssh-remote%2B192.168.1.185/home/phonston/EE4211/kaggle/generate.ipynb#ch0000007vscode-remote?line=6'>7</a>\u001b[0m \u001b[39m#     if(i < 9000):\u001b[39;00m\n\u001b[0;32m   (...)\u001b[0m\n\u001b[1;32m     <a href='vscode-notebook-cell://ssh-remote%2B192.168.1.185/home/phonston/EE4211/kaggle/generate.ipynb#ch0000007vscode-remote?line=12'>13</a>\u001b[0m \u001b[39m#         testFile.write(imgPath)\u001b[39;00m\n\u001b[1;32m     <a href='vscode-notebook-cell://ssh-remote%2B192.168.1.185/home/phonston/EE4211/kaggle/generate.ipynb#ch0000007vscode-remote?line=13'>14</a>\u001b[0m \u001b[39m#         i = 1000\u001b[39;00m\n\u001b[1;32m     <a href='vscode-notebook-cell://ssh-remote%2B192.168.1.185/home/phonston/EE4211/kaggle/generate.ipynb#ch0000007vscode-remote?line=14'>15</a>\u001b[0m \u001b[39mfor\u001b[39;00m img \u001b[39min\u001b[39;00m imgList:\n\u001b[0;32m---> <a href='vscode-notebook-cell://ssh-remote%2B192.168.1.185/home/phonston/EE4211/kaggle/generate.ipynb#ch0000007vscode-remote?line=15'>16</a>\u001b[0m     imgPath \u001b[39m=\u001b[39m path\u001b[39m+\u001b[39m\u001b[39mstr\u001b[39m(i)\u001b[39m+\u001b[39m\u001b[39m'\u001b[39m\u001b[39m.jpg\u001b[39m\u001b[39m'\u001b[39m\u001b[39m+\u001b[39m\u001b[39m'\u001b[39m\u001b[39m\\n\u001b[39;00m\u001b[39m'\u001b[39m\n\u001b[1;32m     <a href='vscode-notebook-cell://ssh-remote%2B192.168.1.185/home/phonston/EE4211/kaggle/generate.ipynb#ch0000007vscode-remote?line=16'>17</a>\u001b[0m     i\u001b[39m+\u001b[39m\u001b[39m=\u001b[39m\u001b[39m1\u001b[39m\n\u001b[1;32m     <a href='vscode-notebook-cell://ssh-remote%2B192.168.1.185/home/phonston/EE4211/kaggle/generate.ipynb#ch0000007vscode-remote?line=17'>18</a>\u001b[0m     textFile\u001b[39m.\u001b[39mwrite(imgPath)\n",
      "\u001b[0;31mNameError\u001b[0m: name 'i' is not defined"
     ]
    }
   ],
   "source": [
    "path = 'data/obj/'\n",
    "imgList = sorted_alphanumeric(os.listdir('Train'))\n",
    "textFile = open('data/train.txt','w')\n",
    "testFile = open('data/test.txt','w')\n",
    "# i = 0\n",
    "# for img in imgList:\n",
    "#     if(i < 9000):\n",
    "#         imgPath = path+img+'\\n'\n",
    "#         textFile.write(imgPath)\n",
    "#         i+=1\n",
    "#     else:\n",
    "#         imgPath = path+img+'\\n'\n",
    "#         testFile.write(imgPath)\n",
    "#         i = 1000\n",
    "for img in imgList:\n",
    "    imgPath = path+img+'.jpg'+'\\n'\n",
    "    textFile.write(imgPath)\n",
    "\n",
    "testFile = open('data/test2.txt','w')\n",
    "imgList = sorted_alphanumeric(os.listdir('Train'))\n",
    "path = 'data/Test/' \n",
    "i = 1000\n",
    "for img in imgList:\n",
    "    imgPath = path+str(i)+'.jpg'+'\\n'\n",
    "    i+=1\n",
    "    testFile.write(imgPath)"
   ]
  },
  {
   "cell_type": "code",
   "execution_count": null,
   "metadata": {},
   "outputs": [],
   "source": [
    "from rebox import BBox\n",
    "from rebox.formats import yolo,pascal\n",
    "def yolo_to_pascal_voc(x_center, y_center, w, h,  image_w, image_h):\n",
    "    w = w * image_w\n",
    "    h = h * image_h\n",
    "    x1 = ((2 * x_center * image_w) - w)/2\n",
    "    y1 = ((2 * y_center * image_h) - h)/2\n",
    "    x2 = x1 + w\n",
    "    y2 = y1 + h\n",
    "    return [x1, y1, x2, y2]"
   ]
  },
  {
   "cell_type": "code",
   "execution_count": null,
   "metadata": {},
   "outputs": [],
   "source": [
    "# convert ur json to yaml then to csv its retarded how easy to do that instead\n",
    "\n",
    "imglist = sorted_alphanumeric(os.listdir('Test'))\n",
    "widthList = []\n",
    "heightList = []\n",
    "for img in imglist:\n",
    "    image = cv.imread('Test/'+img)\n",
    "    height, width, channels = image.shape\n",
    "    widthList.insert(len(widthList),width)\n",
    "    heightList.insert(len(heightList),height)\n",
    "    \n",
    "cleanup = pd.read_csv('convertcsv.csv')\n",
    "\n",
    "cleanedfilename = []\n",
    "\n",
    "for i in cleanup['filename']:\n",
    "    cleanedfilename.insert(len(cleanedfilename),i.split('/')[2])\n",
    "cleanup['filename'] = cleanedfilename\n",
    "\n",
    "x_min = []\n",
    "y_min = []\n",
    "x_max = []\n",
    "y_max = []\n",
    "\n",
    "i = 0\n",
    "for index, row in cleanup.iterrows():\n",
    "    if (~pd.isnull(row['objects/0/relative_coordinates/width'])):\n",
    "        # pascalb = yolo_to_pascal_voc(row['objects/0/relative_coordinates/center_x'],row['objects/0/relative_coordinates/center_y'],row['objects/0/relative_coordinates/width'],row['objects/0/relative_coordinates/height'],\n",
    "        #                              widthList[i],heightList[i])\n",
    "        # x_min.insert(len(x_min),pascalb[0])\n",
    "        # y_min.insert(len(y_min),pascalb[1])\n",
    "        # x_max.insert(len(x_max),pascalb[2])\n",
    "        # y_max.insert(len(y_max),pascalb[3])\n",
    "        \n",
    "        yolob = BBox([row['objects/0/relative_coordinates/center_x'],row['objects/0/relative_coordinates/center_y'],row['objects/0/relative_coordinates/width'],row['objects/0/relative_coordinates/height']],yolo)\n",
    "        pascalb = yolob.as_format(pascal, widthList[i], heightList[i])\n",
    "        x_min.insert(len(x_min),pascalb.x1)\n",
    "        y_min.insert(len(y_min),pascalb.y1)\n",
    "        x_max.insert(len(x_max),pascalb.x2)\n",
    "        y_max.insert(len(y_max),pascalb.y2)\n",
    "    else:    \n",
    "        x_min.insert(len(x_min),0)\n",
    "        y_min.insert(len(y_min),0)\n",
    "        x_max.insert(len(x_max),0)\n",
    "        y_max.insert(len(y_max),0)\n",
    "    i+=1"
   ]
  },
  {
   "cell_type": "code",
   "execution_count": null,
   "metadata": {},
   "outputs": [],
   "source": [
    "result = pd.DataFrame()\n",
    "result[' X_min'] = x_min\n",
    "result[' Y_min'] = y_min\n",
    "result[' X_max'] = x_max\n",
    "result[' Y_max'] = y_max\n",
    "result[result < 0] = 0\n",
    "result = result.replace(r'nan', np.nan, regex=True)\n",
    "result = result.fillna(0)"
   ]
  },
  {
   "cell_type": "code",
   "execution_count": null,
   "metadata": {},
   "outputs": [],
   "source": [
    "result[' X_min'].astype(int)\n",
    "result[' Y_min'].astype(int)\n",
    "result[' X_max'].astype(int)\n",
    "result[' Y_max'].astype(int)\n",
    "result['ImageId'] = cleanup['filename']\n",
    "result = result[['ImageId',' X_min',' Y_min',' X_max',' Y_max']]\n",
    "result.to_csv('EE4211_group1.csv',index=False)"
   ]
  }
 ],
 "metadata": {
  "interpreter": {
   "hash": "1a5990026545d336808e8cb696cb4082c39fcb904eb5df6ff49d5fdd36014739"
  },
  "kernelspec": {
   "display_name": "Python 3.9.10 ('EE4211')",
   "language": "python",
   "name": "python3"
  },
  "language_info": {
   "codemirror_mode": {
    "name": "ipython",
    "version": 3
   },
   "file_extension": ".py",
   "mimetype": "text/x-python",
   "name": "python",
   "nbconvert_exporter": "python",
   "pygments_lexer": "ipython3",
   "version": "3.9.10"
  },
  "orig_nbformat": 4
 },
 "nbformat": 4,
 "nbformat_minor": 2
}
